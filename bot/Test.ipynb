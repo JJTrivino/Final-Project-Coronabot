{
 "cells": [
  {
   "cell_type": "markdown",
   "metadata": {},
   "source": [
    "# Chatbot Test"
   ]
  },
  {
   "cell_type": "markdown",
   "metadata": {},
   "source": [
    "### This document is for to do some tests and train our Bot"
   ]
  },
  {
   "cell_type": "code",
   "execution_count": null,
   "metadata": {},
   "outputs": [],
   "source": [
    "from platform import python_version"
   ]
  },
  {
   "cell_type": "code",
   "execution_count": null,
   "metadata": {},
   "outputs": [],
   "source": [
    "#Check the python version of the environment\n",
    "print(python_version())"
   ]
  },
  {
   "cell_type": "code",
   "execution_count": null,
   "metadata": {},
   "outputs": [],
   "source": [
    "#Check the Spacy version of the environment\n",
    "!python -m spacy info"
   ]
  },
  {
   "cell_type": "code",
   "execution_count": 4,
   "metadata": {},
   "outputs": [],
   "source": [
    "from chatterbot import ChatBot\n",
    "from chatterbot.trainers import ChatterBotCorpusTrainer\n",
    "from chatterbot.trainers import ListTrainer\n",
    "# Advanced natural language processing.\n",
    "import spacy\n",
    "# For connect with the database.\n",
    "import sqlite3\n",
    "from sqlite3 import Error\n",
    "import pandas as pd\n",
    "import sys\n",
    "sys.path.append(\"../\")\n",
    "import os"
   ]
  },
  {
   "cell_type": "code",
   "execution_count": null,
   "metadata": {},
   "outputs": [],
   "source": [
    "# Murphy  will be the name of our bot\n",
    "chatbot = ChatBot('murphy')\n",
    "# Create a new trainer for the chatbot\n",
    "#trainer = ChatterBotCorpusTrainer(chatbot)\n",
    "\"\"\"\n",
    "Train the chatbot based on the english corpus\n",
    "\"\"\"\n",
    "#trainer.train(\"chatterbot.corpus.english\")\n",
    "trainer = ListTrainer(chatbot)\n",
    "nlp = spacy.load(\"en_core_web_sm\")"
   ]
  },
  {
   "cell_type": "code",
   "execution_count": 201,
   "metadata": {},
   "outputs": [],
   "source": [
    "chatbot = ChatBot('Murphy',\n",
    "    storage_adapter='chatterbot.storage.SQLStorageAdapter',\n",
    "        read_only=True, #To disable the bot to keep storing each question in memory\n",
    "        logic_adapters=[\n",
    "        'chatterbot.logic.BestMatch',\n",
    "        {\n",
    "            'import_path': 'chatterbot.logic.BestMatch',\n",
    "            'default_response': 'I am sorry, but I do not understand. I am still learning.',\n",
    "            'maximum_similarity_threshold': 0.99\n",
    "        }\n",
    "    ],\n",
    "    database_uri='sqlite:///database.sqlite3')"
   ]
  },
  {
   "cell_type": "code",
   "execution_count": null,
   "metadata": {},
   "outputs": [],
   "source": [
    "#How to train the bot.\n",
    "trainer.train([\n",
    "    \"Hello\",\n",
    "    \"Hello\",\n",
    "])"
   ]
  },
  {
   "cell_type": "code",
   "execution_count": null,
   "metadata": {},
   "outputs": [],
   "source": [
    "#Export yml document for check the memory of the bot.\n",
    "trainer.train(\"./Covid_checker.yml\")\n",
    "\n",
    "trainer.export_for_training('./Covid_checker.yml')"
   ]
  },
  {
   "cell_type": "code",
   "execution_count": 191,
   "metadata": {},
   "outputs": [],
   "source": [
    "#Voice Commmands\n",
    "!say -v Monica \"Comandos de Voz\""
   ]
  },
  {
   "cell_type": "markdown",
   "metadata": {},
   "source": [
    "## Training some phrases."
   ]
  },
  {
   "cell_type": "code",
   "execution_count": null,
   "metadata": {},
   "outputs": [],
   "source": [
    "# How Train some phrase.\n",
    "covid19 = [\n",
    "    \"I don't feel good\",\n",
    "    \"What symptoms do you have?!\",\n",
    "    \"I think I have a fever?\",\n",
    "    \"have you measured your body temperature?\",\n",
    "]\n",
    "trainer.train(covid19)"
   ]
  },
  {
   "cell_type": "code",
   "execution_count": 218,
   "metadata": {},
   "outputs": [
    {
     "name": "stdout",
     "output_type": "stream",
     "text": [
      "List Trainer: [####################] 100%\n"
     ]
    }
   ],
   "source": [
    "#trainer = ChatterBotCorpusTrainer(chatbot)\n",
    "Coronavirus = [\n",
    "    \"I have a 37.3 degree fever\",\n",
    "    \"If you have other symptoms, contact with  emergency room.\"\n",
    "]\n",
    "trainer = ListTrainer(chatbot)\n",
    "trainer.train(Coronavirus)\n"
   ]
  },
  {
   "cell_type": "code",
   "execution_count": null,
   "metadata": {},
   "outputs": [],
   "source": [
    "# Install pandas in the environment\n",
    "#!pip3 install pandas"
   ]
  },
  {
   "cell_type": "markdown",
   "metadata": {},
   "source": [
    "## Creating functions"
   ]
  },
  {
   "cell_type": "code",
   "execution_count": null,
   "metadata": {},
   "outputs": [],
   "source": [
    "\n",
    "def create_connection(db_file):\n",
    "    \"\"\" create a database connection to a SQLite database \"\"\"\n",
    "    conn = None\n",
    "    try:\n",
    "        conn = sqlite3.connect(db_file)\n",
    "        print(sqlite3.version)\n",
    "    except Error as e:\n",
    "        print(e)\n",
    "\n",
    "create_connection(\"database.sqlite3\")"
   ]
  },
  {
   "cell_type": "code",
   "execution_count": null,
   "metadata": {},
   "outputs": [],
   "source": [
    "\n",
    "def select_all_tasks(conn):\n",
    "    \"\"\" Select all the info in the database \"\"\"\n",
    "    cur = conn.cursor()\n",
    "    cur.execute(\"SELECT * FROM statement\")\n",
    "    \"\"\" fetchall --> Returns an array containing all the rows of the result set \"\"\"\n",
    "    rows = cur.fetchall()\n",
    "\n",
    "    for row in rows:\n",
    "        print(row)"
   ]
  },
  {
   "cell_type": "code",
   "execution_count": null,
   "metadata": {},
   "outputs": [],
   "source": [
    "def main():\n",
    "    database = \"database.sqlite3\"\n",
    "\n",
    "    # create a database connection\n",
    "    conn = create_connection(database)\n",
    "    with conn:\n",
    "        select_task(conn, 1)"
   ]
  },
  {
   "cell_type": "code",
   "execution_count": null,
   "metadata": {},
   "outputs": [],
   "source": [
    "main()"
   ]
  },
  {
   "cell_type": "code",
   "execution_count": null,
   "metadata": {},
   "outputs": [],
   "source": [
    "cur = conn.cursor()\n",
    "cur.execute(\"SELECT * FROM latabla\")"
   ]
  },
  {
   "cell_type": "markdown",
   "metadata": {},
   "source": [
    "# Testing SQL operations and connection"
   ]
  },
  {
   "cell_type": "code",
   "execution_count": null,
   "metadata": {},
   "outputs": [],
   "source": [
    "import sqlite3\n",
    "from sqlite3 import Error\n",
    "\n",
    "\n",
    "def create_connection(db_file):\n",
    "    \"\"\" create a database connection to the SQLite database\n",
    "        specified by the db_file\n",
    "    :param db_file: database file\n",
    "    :return: Connection object or None\n",
    "    \"\"\"\n",
    "    conn = None\n",
    "    try:\n",
    "        conn = sqlite3.connect(db_file)\n",
    "    except Error as e:\n",
    "        print(e)\n",
    "\n",
    "    return conn\n",
    "\n",
    "\n",
    "def select_all(conn):\n",
    "    cur = conn.cursor()\n",
    "    cur.execute(\"SELECT * FROM statement\")\n",
    "    \n",
    "    rows = cur.fetchall()\n",
    "\n",
    "    \"\"\"for row in rows:\n",
    "        print(row)\"\"\"\n",
    "    # Flattened is used to get a copy of an given array collapsed into one dimension\n",
    "    flattened = [item for sublist in rows for item in sublist]\n",
    "    flattened = pd.Series(flattened)\n",
    "\n",
    "def main():\n",
    "    database = r\"database.sqlite3\"\n",
    "\n",
    "    # create a database connection\n",
    "    conn = create_connection(database)\n",
    "    with conn:\n",
    "        select_all(conn)\n",
    "\n",
    "main()"
   ]
  },
  {
   "cell_type": "code",
   "execution_count": 3,
   "metadata": {},
   "outputs": [],
   "source": [
    "# Create connection with DB.\n",
    "cnx = sqlite3.connect('database.sqlite3')\n",
    "\n",
    "df = pd.read_sql_query(\"SELECT * FROM statement\", cnx)"
   ]
  },
  {
   "cell_type": "code",
   "execution_count": 4,
   "metadata": {},
   "outputs": [
    {
     "data": {
      "text/html": [
       "<div>\n",
       "<style scoped>\n",
       "    .dataframe tbody tr th:only-of-type {\n",
       "        vertical-align: middle;\n",
       "    }\n",
       "\n",
       "    .dataframe tbody tr th {\n",
       "        vertical-align: top;\n",
       "    }\n",
       "\n",
       "    .dataframe thead th {\n",
       "        text-align: right;\n",
       "    }\n",
       "</style>\n",
       "<table border=\"1\" class=\"dataframe\">\n",
       "  <thead>\n",
       "    <tr style=\"text-align: right;\">\n",
       "      <th></th>\n",
       "      <th>id</th>\n",
       "      <th>text</th>\n",
       "      <th>search_text</th>\n",
       "      <th>conversation</th>\n",
       "      <th>created_at</th>\n",
       "      <th>in_response_to</th>\n",
       "      <th>search_in_response_to</th>\n",
       "      <th>persona</th>\n",
       "    </tr>\n",
       "  </thead>\n",
       "  <tbody>\n",
       "    <tr>\n",
       "      <th>0</th>\n",
       "      <td>0</td>\n",
       "      <td>What are the most rare symptoms?</td>\n",
       "      <td>ADJ:symptom</td>\n",
       "      <td></td>\n",
       "      <td>2021-03-07 22:54:09.170502</td>\n",
       "      <td>How to avoid covid?</td>\n",
       "      <td></td>\n",
       "      <td></td>\n",
       "    </tr>\n",
       "    <tr>\n",
       "      <th>1</th>\n",
       "      <td>1</td>\n",
       "      <td>What is COVID-19?</td>\n",
       "      <td>PRON:be</td>\n",
       "      <td>training</td>\n",
       "      <td>2021-03-07 20:25:45.210849</td>\n",
       "      <td>None</td>\n",
       "      <td></td>\n",
       "      <td></td>\n",
       "    </tr>\n",
       "    <tr>\n",
       "      <th>2</th>\n",
       "      <td>2</td>\n",
       "      <td>Coronavirus disease (COVID-19) is an infectiou...</td>\n",
       "      <td>PROPN:disease PROPN:infectious ADJ:disease NOU...</td>\n",
       "      <td>training</td>\n",
       "      <td>2021-03-07 20:25:45.220443</td>\n",
       "      <td>What is COVID-19?</td>\n",
       "      <td>PRON:be</td>\n",
       "      <td></td>\n",
       "    </tr>\n",
       "    <tr>\n",
       "      <th>3</th>\n",
       "      <td>5</td>\n",
       "      <td>Are there long-term effects of COVID-19?</td>\n",
       "      <td>ADJ:term NOUN:effect</td>\n",
       "      <td>training</td>\n",
       "      <td>2021-03-07 20:29:27.212799</td>\n",
       "      <td>None</td>\n",
       "      <td></td>\n",
       "      <td></td>\n",
       "    </tr>\n",
       "    <tr>\n",
       "      <th>4</th>\n",
       "      <td>6</td>\n",
       "      <td>Some people who have had COVID-19, whether the...</td>\n",
       "      <td>NOUN:need VERB:hospitalization NOUN:continue V...</td>\n",
       "      <td>training</td>\n",
       "      <td>2021-03-07 20:29:27.222888</td>\n",
       "      <td>Are there long-term effects of COVID-19?</td>\n",
       "      <td>ADJ:term NOUN:effect</td>\n",
       "      <td></td>\n",
       "    </tr>\n",
       "  </tbody>\n",
       "</table>\n",
       "</div>"
      ],
      "text/plain": [
       "   id                                               text  \\\n",
       "0   0                   What are the most rare symptoms?   \n",
       "1   1                                  What is COVID-19?   \n",
       "2   2  Coronavirus disease (COVID-19) is an infectiou...   \n",
       "3   5           Are there long-term effects of COVID-19?   \n",
       "4   6  Some people who have had COVID-19, whether the...   \n",
       "\n",
       "                                         search_text conversation  \\\n",
       "0                                        ADJ:symptom                \n",
       "1                                            PRON:be     training   \n",
       "2  PROPN:disease PROPN:infectious ADJ:disease NOU...     training   \n",
       "3                               ADJ:term NOUN:effect     training   \n",
       "4  NOUN:need VERB:hospitalization NOUN:continue V...     training   \n",
       "\n",
       "                   created_at                            in_response_to  \\\n",
       "0  2021-03-07 22:54:09.170502                       How to avoid covid?   \n",
       "1  2021-03-07 20:25:45.210849                                      None   \n",
       "2  2021-03-07 20:25:45.220443                         What is COVID-19?   \n",
       "3  2021-03-07 20:29:27.212799                                      None   \n",
       "4  2021-03-07 20:29:27.222888  Are there long-term effects of COVID-19?   \n",
       "\n",
       "  search_in_response_to persona  \n",
       "0                                \n",
       "1                                \n",
       "2               PRON:be          \n",
       "3                                \n",
       "4  ADJ:term NOUN:effect          "
      ]
     },
     "execution_count": 4,
     "metadata": {},
     "output_type": "execute_result"
    }
   ],
   "source": [
    "\n",
    "df.head()"
   ]
  },
  {
   "cell_type": "code",
   "execution_count": null,
   "metadata": {},
   "outputs": [],
   "source": [
    "df = pd.read_sql_query(\"SELECT text FROM statement\", cnx)\n",
    "df.sample(5)"
   ]
  },
  {
   "cell_type": "code",
   "execution_count": null,
   "metadata": {},
   "outputs": [],
   "source": [
    "def select_all(conn):\n",
    "    cur = conn.cursor()\n",
    "    cur.execute(\"SELECT * FROM statement\")\n",
    "\n",
    "    rows = cur.fetchall()\n",
    "\n",
    "    \"\"\"for row in rows:\n",
    "        print(row)\"\"\"\n",
    "    \n",
    "    #ola = pd.Series(rows)\n",
    "    #print(rows)\n",
    "    #print(type(rows))\n",
    "    #print(len(rows))\n",
    "    flattened = [item for sublist in rows for item in sublist]\n",
    "    df = pd.DataFrame(flattened)\n",
    "    #print(flattened)\n",
    "    print(df)"
   ]
  },
  {
   "cell_type": "code",
   "execution_count": 29,
   "metadata": {},
   "outputs": [],
   "source": [
    "import re\n",
    "from flask_jsonpify import jsonpify"
   ]
  },
  {
   "cell_type": "code",
   "execution_count": null,
   "metadata": {},
   "outputs": [],
   "source": [
    "\n",
    "df = pd.read_sql_query(\"SELECT text FROM statement\",cnx)\n",
    "df_list = df.values.tolist()\n",
    "df.head()"
   ]
  },
  {
   "cell_type": "markdown",
   "metadata": {},
   "source": [
    "# Testing regexr operations and connection"
   ]
  },
  {
   "cell_type": "code",
   "execution_count": 30,
   "metadata": {},
   "outputs": [],
   "source": [
    "def reg (txto):\n",
    "    patron = \"\\d{2}[\\.\\d]*\"\n",
    "    b = [re.findall(patron, i) for i in txto]\n",
    "    nueva_lista = []\n",
    "    for i in b:\n",
    "        try:\n",
    "            #condición rango numeros\n",
    "            nueva_lista.append(i[0])\n",
    "        except:\n",
    "            pass\n",
    "    return nueva_lista"
   ]
  },
  {
   "cell_type": "code",
   "execution_count": 31,
   "metadata": {},
   "outputs": [
    {
     "data": {
      "text/html": [
       "<div>\n",
       "<style scoped>\n",
       "    .dataframe tbody tr th:only-of-type {\n",
       "        vertical-align: middle;\n",
       "    }\n",
       "\n",
       "    .dataframe tbody tr th {\n",
       "        vertical-align: top;\n",
       "    }\n",
       "\n",
       "    .dataframe thead th {\n",
       "        text-align: right;\n",
       "    }\n",
       "</style>\n",
       "<table border=\"1\" class=\"dataframe\">\n",
       "  <thead>\n",
       "    <tr style=\"text-align: right;\">\n",
       "      <th></th>\n",
       "      <th>text</th>\n",
       "      <th>created_at</th>\n",
       "    </tr>\n",
       "  </thead>\n",
       "  <tbody>\n",
       "    <tr>\n",
       "      <th>0</th>\n",
       "      <td>What are the most rare symptoms?</td>\n",
       "      <td>2021-03-07 22:54:09.170502</td>\n",
       "    </tr>\n",
       "    <tr>\n",
       "      <th>1</th>\n",
       "      <td>What is COVID-19?</td>\n",
       "      <td>2021-03-07 20:25:45.210849</td>\n",
       "    </tr>\n",
       "    <tr>\n",
       "      <th>2</th>\n",
       "      <td>Coronavirus disease (COVID-19) is an infectiou...</td>\n",
       "      <td>2021-03-07 20:25:45.220443</td>\n",
       "    </tr>\n",
       "    <tr>\n",
       "      <th>3</th>\n",
       "      <td>Are there long-term effects of COVID-19?</td>\n",
       "      <td>2021-03-07 20:29:27.212799</td>\n",
       "    </tr>\n",
       "    <tr>\n",
       "      <th>4</th>\n",
       "      <td>Some people who have had COVID-19, whether the...</td>\n",
       "      <td>2021-03-07 20:29:27.222888</td>\n",
       "    </tr>\n",
       "  </tbody>\n",
       "</table>\n",
       "</div>"
      ],
      "text/plain": [
       "                                                text  \\\n",
       "0                   What are the most rare symptoms?   \n",
       "1                                  What is COVID-19?   \n",
       "2  Coronavirus disease (COVID-19) is an infectiou...   \n",
       "3           Are there long-term effects of COVID-19?   \n",
       "4  Some people who have had COVID-19, whether the...   \n",
       "\n",
       "                   created_at  \n",
       "0  2021-03-07 22:54:09.170502  \n",
       "1  2021-03-07 20:25:45.210849  \n",
       "2  2021-03-07 20:25:45.220443  \n",
       "3  2021-03-07 20:29:27.212799  \n",
       "4  2021-03-07 20:29:27.222888  "
      ]
     },
     "execution_count": 31,
     "metadata": {},
     "output_type": "execute_result"
    }
   ],
   "source": [
    "cnx = sqlite3.connect('database.sqlite3')\n",
    "df_1 = pd.read_sql_query(\"SELECT text,created_at FROM statement\",cnx)\n",
    "df_list = df_1.values.tolist()\n",
    "df_1.head()"
   ]
  },
  {
   "cell_type": "code",
   "execution_count": 32,
   "metadata": {},
   "outputs": [
    {
     "ename": "NameError",
     "evalue": "name 'numeross' is not defined",
     "output_type": "error",
     "traceback": [
      "\u001b[0;31m---------------------------------------------------------------------------\u001b[0m",
      "\u001b[0;31mNameError\u001b[0m                                 Traceback (most recent call last)",
      "\u001b[0;32m<ipython-input-32-f2033836876c>\u001b[0m in \u001b[0;36m<module>\u001b[0;34m\u001b[0m\n\u001b[0;32m----> 1\u001b[0;31m \u001b[0mlist\u001b[0m\u001b[0;34m(\u001b[0m\u001b[0mfilter\u001b[0m\u001b[0;34m(\u001b[0m\u001b[0;32mlambda\u001b[0m \u001b[0mn\u001b[0m\u001b[0;34m:\u001b[0m \u001b[0;34m(\u001b[0m\u001b[0mn\u001b[0m \u001b[0;34m>\u001b[0m \u001b[0;36m35.0\u001b[0m\u001b[0;34m)\u001b[0m \u001b[0;32mand\u001b[0m \u001b[0;34m(\u001b[0m\u001b[0mn\u001b[0m \u001b[0;34m<\u001b[0m \u001b[0;36m45\u001b[0m\u001b[0;34m)\u001b[0m\u001b[0;34m,\u001b[0m \u001b[0mnumeross\u001b[0m\u001b[0;34m)\u001b[0m\u001b[0;34m)\u001b[0m\u001b[0;34m\u001b[0m\u001b[0;34m\u001b[0m\u001b[0m\n\u001b[0m",
      "\u001b[0;31mNameError\u001b[0m: name 'numeross' is not defined"
     ]
    }
   ],
   "source": [
    "list(filter(lambda n: (n > 35.0) and (n < 45), numeross))"
   ]
  },
  {
   "cell_type": "code",
   "execution_count": 33,
   "metadata": {},
   "outputs": [
    {
     "data": {
      "text/plain": [
       "0                      What are the most rare symptoms?\n",
       "1                                     What is COVID-19?\n",
       "2     Coronavirus disease (COVID-19) is an infectiou...\n",
       "3              Are there long-term effects of COVID-19?\n",
       "4     Some people who have had COVID-19, whether the...\n",
       "                            ...                        \n",
       "81     Please call 112 if fever continues or increases.\n",
       "82                           I have a 37.5 degree fever\n",
       "83     Please call 112 if fever continues or increases.\n",
       "84                           I have a 37.3 degree fever\n",
       "85     Please call 112 if fever continues or increases.\n",
       "Name: text, Length: 86, dtype: object"
      ]
     },
     "execution_count": 33,
     "metadata": {},
     "output_type": "execute_result"
    }
   ],
   "source": [
    "(df_1[\"text\"])"
   ]
  },
  {
   "cell_type": "code",
   "execution_count": 34,
   "metadata": {},
   "outputs": [
    {
     "data": {
      "text/plain": [
       "['19',\n",
       " '19',\n",
       " '19',\n",
       " '19',\n",
       " '60',\n",
       " '19',\n",
       " '19',\n",
       " '19',\n",
       " '19',\n",
       " '60',\n",
       " '19',\n",
       " '60',\n",
       " '19',\n",
       " '19',\n",
       " '19',\n",
       " '19',\n",
       " '60',\n",
       " '19',\n",
       " '60',\n",
       " '19',\n",
       " '60',\n",
       " '60',\n",
       " '19',\n",
       " '19',\n",
       " '19',\n",
       " '19',\n",
       " '19',\n",
       " '19',\n",
       " '19',\n",
       " '19',\n",
       " '19',\n",
       " '19',\n",
       " '19',\n",
       " '19',\n",
       " '60',\n",
       " '60',\n",
       " '19',\n",
       " '39.2',\n",
       " '112',\n",
       " '40.3',\n",
       " '112',\n",
       " '40.1',\n",
       " '112',\n",
       " '39.9',\n",
       " '112',\n",
       " '39.5',\n",
       " '112',\n",
       " '38.9',\n",
       " '112',\n",
       " '38.5',\n",
       " '112',\n",
       " '38.3',\n",
       " '112',\n",
       " '38.1',\n",
       " '112',\n",
       " '37.5',\n",
       " '112',\n",
       " '37.3',\n",
       " '112']"
      ]
     },
     "execution_count": 34,
     "metadata": {},
     "output_type": "execute_result"
    }
   ],
   "source": [
    "lista_grados = reg(df_1[\"text\"])\n",
    "lista_grados"
   ]
  },
  {
   "cell_type": "code",
   "execution_count": 35,
   "metadata": {},
   "outputs": [],
   "source": [
    "def filtrado_top(listd):\n",
    "    numb = [float(i) for i in listd]\n",
    "    filt = list(filter(lambda n: (n > 35.0) and (n < 45), numb))\n",
    "    return filt"
   ]
  },
  {
   "cell_type": "code",
   "execution_count": 36,
   "metadata": {},
   "outputs": [
    {
     "data": {
      "text/plain": [
       "[39.2, 40.3, 40.1, 39.9, 39.5, 38.9, 38.5, 38.3, 38.1, 37.5, 37.3]"
      ]
     },
     "execution_count": 36,
     "metadata": {},
     "output_type": "execute_result"
    }
   ],
   "source": [
    "filtrado_top(lista_grados)"
   ]
  },
  {
   "cell_type": "code",
   "execution_count": 54,
   "metadata": {},
   "outputs": [],
   "source": [
    "days = [\"2021-3-1\",\"2021-3-2\",\"2021-3-3\",\"2021-3-4\",\"2021-3-5\",\"2021-3-6\",\n",
    "        \"2021-3-7\",\"2021-3-8\",\"2021-3-9\",\n",
    "        \"2021-3-10\",\"2021-3-11\"]"
   ]
  },
  {
   "cell_type": "code",
   "execution_count": 38,
   "metadata": {},
   "outputs": [
    {
     "ename": "SyntaxError",
     "evalue": "invalid syntax (<ipython-input-38-042e35cb7d4f>, line 1)",
     "output_type": "error",
     "traceback": [
      "\u001b[0;36m  File \u001b[0;32m\"<ipython-input-38-042e35cb7d4f>\"\u001b[0;36m, line \u001b[0;32m1\u001b[0m\n\u001b[0;31m    [df_1[\"text\"]]df_1[]\u001b[0m\n\u001b[0m                     ^\u001b[0m\n\u001b[0;31mSyntaxError\u001b[0m\u001b[0;31m:\u001b[0m invalid syntax\n"
     ]
    }
   ],
   "source": [
    "[df_1[\"text\"]]df_1[]"
   ]
  },
  {
   "cell_type": "code",
   "execution_count": 39,
   "metadata": {},
   "outputs": [
    {
     "data": {
      "text/html": [
       "<div>\n",
       "<style scoped>\n",
       "    .dataframe tbody tr th:only-of-type {\n",
       "        vertical-align: middle;\n",
       "    }\n",
       "\n",
       "    .dataframe tbody tr th {\n",
       "        vertical-align: top;\n",
       "    }\n",
       "\n",
       "    .dataframe thead th {\n",
       "        text-align: right;\n",
       "    }\n",
       "</style>\n",
       "<table border=\"1\" class=\"dataframe\">\n",
       "  <thead>\n",
       "    <tr style=\"text-align: right;\">\n",
       "      <th></th>\n",
       "      <th>text</th>\n",
       "      <th>created_at</th>\n",
       "    </tr>\n",
       "  </thead>\n",
       "  <tbody>\n",
       "    <tr>\n",
       "      <th>0</th>\n",
       "      <td>What are the most rare symptoms?</td>\n",
       "      <td>2021-03-07 22:54:09.170502</td>\n",
       "    </tr>\n",
       "    <tr>\n",
       "      <th>1</th>\n",
       "      <td>What is COVID-19?</td>\n",
       "      <td>2021-03-07 20:25:45.210849</td>\n",
       "    </tr>\n",
       "    <tr>\n",
       "      <th>2</th>\n",
       "      <td>Coronavirus disease (COVID-19) is an infectiou...</td>\n",
       "      <td>2021-03-07 20:25:45.220443</td>\n",
       "    </tr>\n",
       "    <tr>\n",
       "      <th>3</th>\n",
       "      <td>Are there long-term effects of COVID-19?</td>\n",
       "      <td>2021-03-07 20:29:27.212799</td>\n",
       "    </tr>\n",
       "    <tr>\n",
       "      <th>4</th>\n",
       "      <td>Some people who have had COVID-19, whether the...</td>\n",
       "      <td>2021-03-07 20:29:27.222888</td>\n",
       "    </tr>\n",
       "    <tr>\n",
       "      <th>...</th>\n",
       "      <td>...</td>\n",
       "      <td>...</td>\n",
       "    </tr>\n",
       "    <tr>\n",
       "      <th>81</th>\n",
       "      <td>Please call 112 if fever continues or increases.</td>\n",
       "      <td>2021-03-11 17:19:57.927771</td>\n",
       "    </tr>\n",
       "    <tr>\n",
       "      <th>82</th>\n",
       "      <td>I have a 37.5 degree fever</td>\n",
       "      <td>2021-03-11 17:20:05.365919</td>\n",
       "    </tr>\n",
       "    <tr>\n",
       "      <th>83</th>\n",
       "      <td>Please call 112 if fever continues or increases.</td>\n",
       "      <td>2021-03-11 17:20:05.383398</td>\n",
       "    </tr>\n",
       "    <tr>\n",
       "      <th>84</th>\n",
       "      <td>I have a 37.3 degree fever</td>\n",
       "      <td>2021-03-11 17:20:13.352742</td>\n",
       "    </tr>\n",
       "    <tr>\n",
       "      <th>85</th>\n",
       "      <td>Please call 112 if fever continues or increases.</td>\n",
       "      <td>2021-03-11 17:20:13.370465</td>\n",
       "    </tr>\n",
       "  </tbody>\n",
       "</table>\n",
       "<p>86 rows × 2 columns</p>\n",
       "</div>"
      ],
      "text/plain": [
       "                                                 text  \\\n",
       "0                    What are the most rare symptoms?   \n",
       "1                                   What is COVID-19?   \n",
       "2   Coronavirus disease (COVID-19) is an infectiou...   \n",
       "3            Are there long-term effects of COVID-19?   \n",
       "4   Some people who have had COVID-19, whether the...   \n",
       "..                                                ...   \n",
       "81   Please call 112 if fever continues or increases.   \n",
       "82                         I have a 37.5 degree fever   \n",
       "83   Please call 112 if fever continues or increases.   \n",
       "84                         I have a 37.3 degree fever   \n",
       "85   Please call 112 if fever continues or increases.   \n",
       "\n",
       "                    created_at  \n",
       "0   2021-03-07 22:54:09.170502  \n",
       "1   2021-03-07 20:25:45.210849  \n",
       "2   2021-03-07 20:25:45.220443  \n",
       "3   2021-03-07 20:29:27.212799  \n",
       "4   2021-03-07 20:29:27.222888  \n",
       "..                         ...  \n",
       "81  2021-03-11 17:19:57.927771  \n",
       "82  2021-03-11 17:20:05.365919  \n",
       "83  2021-03-11 17:20:05.383398  \n",
       "84  2021-03-11 17:20:13.352742  \n",
       "85  2021-03-11 17:20:13.370465  \n",
       "\n",
       "[86 rows x 2 columns]"
      ]
     },
     "execution_count": 39,
     "metadata": {},
     "output_type": "execute_result"
    }
   ],
   "source": [
    "df_1"
   ]
  },
  {
   "cell_type": "code",
   "execution_count": 40,
   "metadata": {},
   "outputs": [],
   "source": [
    "# Aplanar resultados\n",
    "# Plotear lista grados?\n",
    "\n",
    "\n",
    "# Query con fecha y grados\n",
    "# Sacar la lista de tuplas\n",
    "# Modificar la funcion grados\n",
    "\n",
    "\n",
    "\n",
    "# Hacer más complejo el patrón de regex"
   ]
  },
  {
   "cell_type": "code",
   "execution_count": 41,
   "metadata": {},
   "outputs": [
    {
     "data": {
      "text/html": [
       "<div>\n",
       "<style scoped>\n",
       "    .dataframe tbody tr th:only-of-type {\n",
       "        vertical-align: middle;\n",
       "    }\n",
       "\n",
       "    .dataframe tbody tr th {\n",
       "        vertical-align: top;\n",
       "    }\n",
       "\n",
       "    .dataframe thead th {\n",
       "        text-align: right;\n",
       "    }\n",
       "</style>\n",
       "<table border=\"1\" class=\"dataframe\">\n",
       "  <thead>\n",
       "    <tr style=\"text-align: right;\">\n",
       "      <th></th>\n",
       "      <th>text</th>\n",
       "      <th>created_at</th>\n",
       "    </tr>\n",
       "  </thead>\n",
       "  <tbody>\n",
       "    <tr>\n",
       "      <th>0</th>\n",
       "      <td>What are the most rare symptoms?</td>\n",
       "      <td>2021-03-07 22:54:09.170502</td>\n",
       "    </tr>\n",
       "    <tr>\n",
       "      <th>1</th>\n",
       "      <td>What is COVID-19?</td>\n",
       "      <td>2021-03-07 20:25:45.210849</td>\n",
       "    </tr>\n",
       "    <tr>\n",
       "      <th>2</th>\n",
       "      <td>Coronavirus disease (COVID-19) is an infectiou...</td>\n",
       "      <td>2021-03-07 20:25:45.220443</td>\n",
       "    </tr>\n",
       "    <tr>\n",
       "      <th>3</th>\n",
       "      <td>Are there long-term effects of COVID-19?</td>\n",
       "      <td>2021-03-07 20:29:27.212799</td>\n",
       "    </tr>\n",
       "    <tr>\n",
       "      <th>4</th>\n",
       "      <td>Some people who have had COVID-19, whether the...</td>\n",
       "      <td>2021-03-07 20:29:27.222888</td>\n",
       "    </tr>\n",
       "  </tbody>\n",
       "</table>\n",
       "</div>"
      ],
      "text/plain": [
       "                                                text  \\\n",
       "0                   What are the most rare symptoms?   \n",
       "1                                  What is COVID-19?   \n",
       "2  Coronavirus disease (COVID-19) is an infectiou...   \n",
       "3           Are there long-term effects of COVID-19?   \n",
       "4  Some people who have had COVID-19, whether the...   \n",
       "\n",
       "                   created_at  \n",
       "0  2021-03-07 22:54:09.170502  \n",
       "1  2021-03-07 20:25:45.210849  \n",
       "2  2021-03-07 20:25:45.220443  \n",
       "3  2021-03-07 20:29:27.212799  \n",
       "4  2021-03-07 20:29:27.222888  "
      ]
     },
     "execution_count": 41,
     "metadata": {},
     "output_type": "execute_result"
    }
   ],
   "source": [
    "cnx = sqlite3.connect('database.sqlite3')\n",
    "df_1 = pd.read_sql_query(\"SELECT text,created_at FROM statement\",cnx)\n",
    "df_list = df_1.values.tolist()\n",
    "df_1.head()"
   ]
  },
  {
   "cell_type": "code",
   "execution_count": 42,
   "metadata": {},
   "outputs": [],
   "source": [
    "cnx = sqlite3.connect('database.sqlite3')\n",
    "df_2 = pd.read_sql_query(\"SELECT text FROM statement\",cnx)"
   ]
  },
  {
   "cell_type": "code",
   "execution_count": 43,
   "metadata": {},
   "outputs": [],
   "source": [
    "graph = filtrado_top(lista_grados)"
   ]
  },
  {
   "cell_type": "code",
   "execution_count": 44,
   "metadata": {},
   "outputs": [],
   "source": [
    "#!pip3 install matplotlib"
   ]
  },
  {
   "cell_type": "code",
   "execution_count": 48,
   "metadata": {},
   "outputs": [
    {
     "data": {
      "image/png": "[encoded data removed]",
      "text/plain": [
       "<Figure size 720x432 with 1 Axes>"
      ]
     },
     "metadata": {
      "needs_background": "light"
     },
     "output_type": "display_data"
    }
   ],
   "source": [
    "import matplotlib.pyplot as plt\n",
    "plt.figure(figsize=(10,6))\n",
    "plt.plot(graph)\n",
    "plt.savefig(\"Ejemplo.jpg\")\n",
    "plt.show()"
   ]
  },
  {
   "cell_type": "code",
   "execution_count": 55,
   "metadata": {},
   "outputs": [
    {
     "data": {
      "image/png": "[encoded data removed]",
      "text/plain": [
       "<Figure size 720x432 with 1 Axes>"
      ]
     },
     "metadata": {
      "needs_background": "light"
     },
     "output_type": "display_data"
    }
   ],
   "source": [
    "import matplotlib.pyplot as plt\n",
    "plt.figure(figsize=(10,6))\n",
    "plt.plot(days, graph)\n",
    "plt.savefig(\"Ejemplo1.jpg\")\n",
    "plt.show()"
   ]
  },
  {
   "cell_type": "code",
   "execution_count": null,
   "metadata": {},
   "outputs": [],
   "source": []
  }
 ],
 "metadata": {
  "kernelspec": {
   "display_name": "proyectofinal",
   "language": "python",
   "name": "proyectofinal"
  },
  "language_info": {
   "codemirror_mode": {
    "name": "ipython",
    "version": 3
   },
   "file_extension": ".py",
   "mimetype": "text/x-python",
   "name": "python",
   "nbconvert_exporter": "python",
   "pygments_lexer": "ipython3",
   "version": "3.7.5"
  },
  "toc": {
   "base_numbering": 1,
   "nav_menu": {},
   "number_sections": true,
   "sideBar": true,
   "skip_h1_title": false,
   "title_cell": "Table of Contents",
   "title_sidebar": "Contents",
   "toc_cell": false,
   "toc_position": {},
   "toc_section_display": true,
   "toc_window_display": false
  },
  "varInspector": {
   "cols": {
    "lenName": 16,
    "lenType": 16,
    "lenVar": 40
   },
   "kernels_config": {
    "python": {
     "delete_cmd_postfix": "",
     "delete_cmd_prefix": "del ",
     "library": "var_list.py",
     "varRefreshCmd": "print(var_dic_list())"
    },
    "r": {
     "delete_cmd_postfix": ") ",
     "delete_cmd_prefix": "rm(",
     "library": "var_list.r",
     "varRefreshCmd": "cat(var_dic_list()) "
    }
   },
   "types_to_exclude": [
    "module",
    "function",
    "builtin_function_or_method",
    "instance",
    "_Feature"
   ],
   "window_display": false
  }
 },
 "nbformat": 4,
 "nbformat_minor": 4
}
